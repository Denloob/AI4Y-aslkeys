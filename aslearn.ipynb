{
  "cells": [
    {
      "cell_type": "code",
      "execution_count": 1,
      "metadata": {},
      "outputs": [],
      "source": [
        "import csv # for reading csv files\n",
        "import pandas as pd\n",
        "import numpy as np\n",
        "import matplotlib.pyplot as plt # for plotting\n",
        "import cv2\n",
        "from cvzone.HandTrackingModule import HandDetector\n",
        "from IPython.display import clear_output # for clearing the output in the notebook\n",
        "from sklearn.neighbors import KNeighborsClassifier\n",
        "import pickle\n",
        "\n",
        "# Create a list for labeling\n",
        "labels = ['A', 'B', 'C', 'D', 'E', 'F', 'G', 'H', 'I', 'J', 'K', 'L', 'M', 'N', 'O', 'P', 'Q', 'R', 'S', 'T', 'U', 'V', 'W', 'X', 'Y', 'Z', 'del', 'sp', 'nothing']\n"
      ]
    },
    {
      "cell_type": "code",
      "execution_count": null,
      "metadata": {},
      "outputs": [],
      "source": [
        "# Show all of the asl letters\n",
        "\n",
        "def cut_frame(img, frame_size):\n",
        "    # cut frame_size pixel from the top, bottom, left and right\n",
        "    return img[frame_size:-frame_size, frame_size:-frame_size]\n",
        "\n",
        "f, axarr = plt.subplots(5, 6, figsize=(15, 15))\n",
        "r, c = 0, 0\n",
        "\n",
        "for i in range(len(labels)):\n",
        "    if (i % 6 == 0 and i != 0):\n",
        "        r += 1\n",
        "        c = 0\n",
        "    img = cv2.imread('data/asl_alphabet_train/asl_alphabet_train/' + labels[i] + '/' + labels[i] + '1000.jpg')\n",
        "    axarr[r, c].imshow(cut_frame(img, 3))\n",
        "    axarr[r, c].set_title(labels[i], fontsize=16, color='#ffffff')\n",
        "    axarr[r, c].axis('off')\n",
        "    c += 1\n",
        "    \n",
        "axarr[r, c].axis('off')\n",
        "plt.show()"
      ]
    },
    {
      "cell_type": "code",
      "execution_count": 3,
      "metadata": {},
      "outputs": [],
      "source": [
        "# generate a csv file for the asl letters\n",
        "\n",
        "detector = HandDetector(detectionCon=0.8, maxHands=1) # Create a hand detector\n",
        "\n",
        "# add labels to the csv file\n",
        "with open('traindots.csv', 'w', encoding='UTF8', newline='') as f:\n",
        "    writer = csv.writer(f)\n",
        "\n",
        "    # Add 'label' as the first column and 70 more columns for the 70 other values\n",
        "    header_arr = ['label']\n",
        "    for i in range(70):\n",
        "        header_arr.append(i)\n",
        "\n",
        "    writer.writerow(header_arr) # Write the header\n",
        "\n",
        "# add the data to the csv file\n",
        "with open('traindots.csv', 'a', encoding='UTF8', newline='') as f: # Open the file to append\n",
        "    writer = csv.writer(f) # Create a writer\n",
        "\n",
        "    for i in range(len(labels)):\n",
        "        for j in range(1, 3001):\n",
        "            image = cv2.imread('data/asl_alphabet_train/asl_alphabet_train/'+labels[i]+'/'+labels[i]+str(j)+'.jpg') # Read the image from the path\n",
        "\n",
        "            hands = detector.findHands(image, draw=True) # Detect the hand\n",
        "\n",
        "            if (hands and hands[0] and hands[0][0]): # If the hand is detected\n",
        "                insertData = hands[0][0]['lmList'] # Get the landmarks\n",
        "                insertData = np.asarray(insertData, dtype=object).reshape(1, -1) # Convert the landmarks to a numpy array\n",
        "\n",
        "                insertData = np.append(insertData, hands[0][0]['bbox']) # Get the bounding box\n",
        "                insertData = np.asarray(insertData, dtype=object).reshape(1, -1) # Convert the bounding box to a numpy array\n",
        "\n",
        "                insertData = np.append(insertData, hands[0][0]['center']) # Get the center\n",
        "                insertData = np.asarray(insertData, dtype=object).reshape(1, -1) # Convert the center to a numpy array\n",
        "                \n",
        "                if (hands[0][0]['type'] == 'Right'): # If the hand is right\n",
        "                    insertData = np.append(insertData, 1) # Insert 1\n",
        "                elif (hands[0][0]['type'] == 'Left'): # If the hand is left\n",
        "                    insertData = np.append(insertData, 0) # Insert 0\n",
        "\n",
        "                insertData = np.insert(insertData, 0, i) # Insert the label\n",
        "                writer.writerow(insertData) # Append the data to the csv file"
      ]
    },
    {
      "cell_type": "code",
      "execution_count": 2,
      "metadata": {},
      "outputs": [],
      "source": [
        "traindots_df = pd.read_csv('traindots.csv') # Read the csv file for training\n",
        "testdots_df = pd.read_csv('testdots.csv') # Read the csv file for testing"
      ]
    },
    {
      "cell_type": "code",
      "execution_count": 5,
      "metadata": {},
      "outputs": [
        {
          "data": {
            "image/png": "[encoded data removed]",
            "text/plain": [
              "<Figure size 432x288 with 1 Axes>"
            ]
          },
          "metadata": {
            "needs_background": "light"
          },
          "output_type": "display_data"
        }
      ],
      "source": [
        "letter_image_count = traindots_df['label'].value_counts()\n",
        "\n",
        "sorted_by_index = [i for i in letter_image_count.sort_index()]\n",
        "\n",
        "fig = plt.figure()\n",
        "ax = fig.add_axes([0,0,1,1])\n",
        "ax.bar(labels[:-1], sorted_by_index)\n",
        "ax.set_xlabel(\"Letters\")\n",
        "ax.set_ylabel(\"No. of images\")\n",
        "ax.set_facecolor((253/255, 177/255, 87/255))\n",
        "plt.show()\n",
        "\n"
      ]
    },
    {
      "cell_type": "code",
      "execution_count": 5,
      "metadata": {},
      "outputs": [],
      "source": [
        "KNN = KNeighborsClassifier(n_neighbors=5) # Create a KNN classifier\n",
        "\n",
        "\n",
        "x_train = traindots_df.loc[:, traindots_df.columns != 'label'].values # Get the training data\n",
        "y_train = traindots_df['label'].values # Get the training labels\n",
        "\n",
        "KNN.fit(x_train, y_train) # Train the classifier\n",
        "\n",
        "with open(\"aslearn.ai\", \"wb\") as f: # Open the file to write\n",
        "    pickle.dump(KNN, f) # Write the classifier to the file"
      ]
    },
    {
      "cell_type": "code",
      "execution_count": null,
      "metadata": {},
      "outputs": [],
      "source": [
        "x_test = traindots_df.loc[:, testdots_df.columns != 'label'].values # Get the testing data\n",
        "y_test = traindots_df['label'].values # Get the testing labels\n",
        "\n",
        "print(\"Accuracy: \", KNN.score(x_test, y_test)) # Print the accuracy"
      ]
    },
    {
      "cell_type": "code",
      "execution_count": 7,
      "metadata": {},
      "outputs": [],
      "source": [
        "##### MAIN #####\n",
        "# Opening cv2 Webcam\n",
        "\n",
        "with open(\"aslearn.ai\", \"rb\") as f:  # Open the file to read\n",
        "    KNN = pickle.load(f)  # Read the classifier from the file\n",
        "\n",
        "cap = cv2.VideoCapture(0, cv2.CAP_DSHOW) # Open the webcam #! CHANGE THE CAMERA INDEX IF DOESN'T WORK\n",
        "detector = HandDetector(detectionCon=0.8, maxHands=1)  # Create a hand detector\n",
        "\n",
        "try:\n",
        "    while cv2.waitKey(1) != ord('q'):  # Loop until the user presses 'q'\n",
        "        clear_output(wait=True)\n",
        "\n",
        "        ret, frame = cap.read()  # Read camera frame\n",
        "\n",
        "        hands = detector.findHands(frame, draw=False)  # Find a hand\n",
        "        # if it is left hand\n",
        "        if (hands and hands[0] and hands[0]['type'] == 'Left'):\n",
        "            mirror_frame = cv2.flip(frame, 1)\n",
        "            hands = detector.findHands(mirror_frame, draw=False)  # Find a hand\n",
        "\n",
        "        if not (hands and hands[0]):  # if no hands found\n",
        "            print('nothing: 100%', flush=True) # Print nothing if no hand is detected\n",
        "            continue  # go to the next frame\n",
        "\n",
        "        x, y, w, h = hands[0]['bbox']  # Get the bounding box\n",
        "        # cx, cy = hands[0]['center']\n",
        "\n",
        "        x -= 20  # Move the bounding box to the center of the hand\n",
        "        y -= 20  # Move the bounding box to the center of the hand\n",
        "        w += 40  # Expand the bounding box\n",
        "        h += 40  # Expand the bounding box\n",
        "\n",
        "        if (w > h):  # if the width is greater than the height\n",
        "            h = w  # Make the height the same as the width\n",
        "        if (h > w):  # if the height is greater than the width\n",
        "            w = h  # Make the width the same as the height\n",
        "\n",
        "        hand_img = frame[y:y+h, x:x+w]  # Crop the hand out of the frame\n",
        "        try:\n",
        "            cv2.imshow(\"HAND\", cv2.flip(hand_img, 1))  # Show the image\n",
        "        except Exception as e:\n",
        "            print(e)\n",
        "        cv2.setWindowProperty(\"HAND\", cv2.WND_PROP_TOPMOST, 1)  # Set the window to the topmost\n",
        "\n",
        "        insertData = hands[0]['lmList']  # Get the landmarks\n",
        "\n",
        "        for ins_data in insertData:  # move each landmark according to the bbox of the hand\n",
        "            ins_data[0] -= x\n",
        "            ins_data[1] -= y\n",
        "\n",
        "        insertData = np.asarray(insertData).reshape(1, -1)  # reshape the landmarks to a 1D numpy array\n",
        "\n",
        "        x1, y1, w1, h1 = hands[0]['bbox']  # Get the bounding box\n",
        "        x1 -= x  # Move the bounding box according to the bbox of the hand\n",
        "        y1 -= y  # Move the bounding box according to the bbox of the hand\n",
        "        insertData = np.append(insertData, (x1, y1, w1, h1))  # Append the bounding box to the landmarks\n",
        "        insertData = np.asarray(insertData).reshape(1, -1)  # reshape the bounding box to a 1D numpy array\n",
        "\n",
        "        cx1, cy1 = hands[0]['center']  # Get the center\n",
        "        cx1 -= x  # Move the center according to the bbox of the hand\n",
        "        cy1 -= y  # Move the center according to the bbox of the hand\n",
        "        insertData = np.append(insertData, (cx1, cy1))  # Append the center to the landmarks\n",
        "        insertData = np.asarray(insertData).reshape(1, -1)  # reshape the center to a 1D numpy array\n",
        "\n",
        "        insertData = np.append(insertData, hands[0]['type'] == 'Right')  # insert 1 if the hand is right, 0 if the hand is left\n",
        "\n",
        "        predict = KNN.predict_proba([insertData])  # Predict the probability of each label\n",
        "\n",
        "        predict = [int(i*100) for i in predict[0]]  # Convert the probabilities to integers\n",
        "        precentageDict = {}\n",
        "        for i, percentage in enumerate(predict):  # For each percentage\n",
        "            if (percentage > 0.):\n",
        "                precentageDict[labels[i]] = int(percentage)  # Add the label and the percentage to the dictionary\n",
        "        precentageDict = {k: v for k, v in sorted(precentageDict.items(), key=lambda item: item[1], reverse=True)}  # Sort the dictionary by the percentage\n",
        "\n",
        "        print('\\n'.join([key + ': ' + str(value) + '%' for key, value in precentageDict.items()]), flush=True)  # Print the dictionary\n",
        "\n",
        "finally:\n",
        "    cap.release()  # Release the webcam\n",
        "    cv2.destroyAllWindows()  # Close all the windows\n"
      ]
    },
    {
      "cell_type": "code",
      "execution_count": 9,
      "metadata": {},
      "outputs": [],
      "source": [
        "import tensorflow as tf\n",
        "from tensorflow.keras import layers\n",
        "from tensorflow import keras\n",
        "import tensorflowjs as tfjs"
      ]
    },
    {
      "cell_type": "code",
      "execution_count": 31,
      "metadata": {},
      "outputs": [
        {
          "name": "stdout",
          "output_type": "stream",
          "text": [
            "(63,)\n"
          ]
        }
      ],
      "source": [
        "# KNN = KNeighborsClassifier(n_neighbors=5) # Create a KNN classifier\n",
        "x_train = traindots_df.copy()\n",
        "# x_train.drop(['63', '64', '65', '66', '67', '68', '69'], axis=1)\n",
        "x_train = tf.cast(x_train.iloc[:, 1:64].values, 'int32') # Get the training data\n",
        "print(x_train[0].shape)\n",
        "# x_train = x_train.loc[:, traindots_df.columns != 'label'].values # Get the training data\n",
        "y_train = tf.cast(traindots_df['label'].values, 'int32') # Get the training labels\n",
        "\n",
        "# KNN.fit(x_train, y_train) # Train the classifier\n",
        "\n",
        "# with open(\"aslearn.ai\", \"wb\") as f: # Open the file to write\n",
        "    # pickle.dump(KNN, f) # Write the classifier to the file"
      ]
    },
    {
      "cell_type": "code",
      "execution_count": 64,
      "metadata": {},
      "outputs": [
        {
          "name": "stdout",
          "output_type": "stream",
          "text": [
            "Epoch 1/10\n",
            "2419/2419 [==============================] - 3s 1ms/step - loss: 1.6451 - accuracy: 0.8132\n",
            "Epoch 2/10\n",
            "2419/2419 [==============================] - 3s 1ms/step - loss: 0.2947 - accuracy: 0.9335\n",
            "Epoch 3/10\n",
            "2419/2419 [==============================] - 2s 949us/step - loss: 0.1579 - accuracy: 0.9579\n",
            "Epoch 4/10\n",
            "2419/2419 [==============================] - 2s 958us/step - loss: 0.1112 - accuracy: 0.9668\n",
            "Epoch 5/10\n",
            "2419/2419 [==============================] - 2s 932us/step - loss: 0.0986 - accuracy: 0.9696\n",
            "Epoch 6/10\n",
            "2419/2419 [==============================] - 2s 968us/step - loss: 0.0903 - accuracy: 0.9724\n",
            "Epoch 7/10\n",
            "2419/2419 [==============================] - 2s 954us/step - loss: 0.0845 - accuracy: 0.9747\n",
            "Epoch 8/10\n",
            "2419/2419 [==============================] - 3s 1ms/step - loss: 0.0746 - accuracy: 0.9766\n",
            "Epoch 9/10\n",
            "2419/2419 [==============================] - 2s 965us/step - loss: 0.0756 - accuracy: 0.9776\n",
            "Epoch 10/10\n",
            "2419/2419 [==============================] - 2s 953us/step - loss: 0.0673 - accuracy: 0.9798\n"
          ]
        },
        {
          "data": {
            "text/plain": [
              "<keras.callbacks.History at 0x1fbbd808d00>"
            ]
          },
          "execution_count": 64,
          "metadata": {},
          "output_type": "execute_result"
        }
      ],
      "source": [
        "# model = tf.keras.Sequential([\n",
        "#   layers.Dense(128, activation='relu'),\n",
        "#   layers.Dense(29)\n",
        "# ])\n",
        "\n",
        "# model.compile(loss=tf.keras.losses.SparseCategoricalCrossentropy(from_logits=True), optimizer='adam', metrics=['accuracy'])\n",
        "\n",
        "# model.fit(x_train, y_train, epochs=10)\n",
        "\n",
        "model = tf.keras.models.Sequential([\n",
        "    tf.keras.layers.Dense(128, activation='relu'),\n",
        "    tf.keras.layers.Dense(29)\n",
        "])\n",
        "\n",
        "model.compile(optimizer='adam', loss=tf.keras.losses.SparseCategoricalCrossentropy(from_logits=True), metrics=['accuracy'])\n",
        "model.fit(x_train, y_train, epochs=10)"
      ]
    },
    {
      "cell_type": "code",
      "execution_count": 7,
      "metadata": {},
      "outputs": [],
      "source": [
        "# model.save('server/tfjs')\n",
        "\n",
        "tf.keras.models.save_model(\n",
        "    model,\n",
        "    'server/tfjs.h5',\n",
        "    overwrite=True,\n",
        "    include_optimizer=True,\n",
        "    save_format='h5',\n",
        "    signatures=None,\n",
        "    options=None,\n",
        "    save_traces=True\n",
        ")"
      ]
    },
    {
      "cell_type": "code",
      "execution_count": 65,
      "metadata": {},
      "outputs": [],
      "source": [
        "tfjs.converters.save_keras_model(model, 'server/tfjs')"
      ]
    },
    {
      "cell_type": "code",
      "execution_count": null,
      "metadata": {},
      "outputs": [],
      "source": [
        "model = keras.models.load_model('server/tfjs.h5')\n",
        "print(model)"
      ]
    },
    {
      "cell_type": "code",
      "execution_count": 46,
      "metadata": {},
      "outputs": [
        {
          "name": "stdout",
          "output_type": "stream",
          "text": [
            "Z\n",
            "5\n"
          ]
        }
      ],
      "source": [
        "print(labels[25])\n",
        "print(labels.index('F'))"
      ]
    }
  ],
  "metadata": {
    "interpreter": {
      "hash": "15b78ae7d8bb541448fc574e994727730f3ee429e4f78406e0bebe36fe529ad6"
    },
    "kernelspec": {
      "display_name": "Python 3.9.7 64-bit",
      "language": "python",
      "name": "python3"
    },
    "language_info": {
      "codemirror_mode": {
        "name": "ipython",
        "version": 3
      },
      "file_extension": ".py",
      "mimetype": "text/x-python",
      "name": "python",
      "nbconvert_exporter": "python",
      "pygments_lexer": "ipython3",
      "version": "3.9.7"
    },
    "orig_nbformat": 4
  },
  "nbformat": 4,
  "nbformat_minor": 2
}
