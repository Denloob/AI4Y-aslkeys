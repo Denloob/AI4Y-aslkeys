{
 "cells": [
  {
   "cell_type": "code",
   "execution_count": 2,
   "metadata": {},
   "outputs": [],
   "source": [
    "import pandas as pd\n",
    "import numpy as np\n",
    "import matplotlib.pyplot as plt\n",
    "import cv2"
   ]
  },
  {
   "cell_type": "code",
   "execution_count": 6,
   "metadata": {},
   "outputs": [],
   "source": [
    "# English Alphabet\n",
    "\n",
    "eng_alphabet = ['A', 'B', 'C', 'D', 'E', 'F', 'G', 'H', 'I', 'J', 'K', 'L', 'M', 'N', 'O', 'P', 'Q', 'R', 'S', 'T', 'U', 'V', 'W', 'X', 'Y', 'Z']"
   ]
  },
  {
   "cell_type": "code",
   "execution_count": null,
   "metadata": {},
   "outputs": [],
   "source": [
    "# function to read an image and grayscale it"
   ]
  },
  {
   "cell_type": "code",
   "execution_count": 7,
   "metadata": {},
   "outputs": [
    {
     "name": "stdout",
     "output_type": "stream",
     "text": [
      "B\n",
      "28\n",
      "\n",
      "[[221 221 222 222 222 222 222 222 222 223 223 222 223 223 223 223 223 223\n",
      "  222 222 222 222 222 222 222 222 222]\n",
      " [222 222 222 222 222 222 223 223 223 223 223 223 223 224 223 224 223 222\n",
      "  222 222 222 222 222 222 222 222 222]\n",
      " [222 222 222 223 222 222 223 223 223 224 224 224 224 224 224 223 224 222\n",
      "  222 222 222 223 222 222 222 222 222]\n",
      " [222 222 222 223 223 223 224 224 224 224 224 223 217 219 224 224 224 208\n",
      "  210 224 223 223 223 222 223 222 222]\n",
      " [223 223 222 223 223 224 224 224 224 224 224 223 205 214 226 224 222 207\n",
      "  213 225 223 223 224 222 223 222 222]\n",
      " [223 223 223 224 224 223 224 224 220 221 224 219 205 228 225 224 221 207\n",
      "  217 226 224 224 223 223 223 223 223]\n",
      " [224 223 224 224 224 224 224 223 204 210 225 213 205 232 225 224 216 205\n",
      "  221 225 224 224 224 223 223 223 223]\n",
      " [224 224 224 224 224 224 224 220 200 215 223 210 207 228 225 224 215 211\n",
      "  226 224 224 224 224 224 223 223 223]\n",
      " [224 224 224 225 225 224 224 212 200 218 215 206 207 227 225 217 213 215\n",
      "  226 225 224 224 224 224 224 223 223]\n",
      " [224 224 225 225 225 225 224 207 201 221 210 203 215 226 223 213 209 224\n",
      "  225 225 225 224 224 224 224 224 223]\n",
      " [225 225 225 224 225 225 222 203 197 222 211 209 224 225 218 213 210 228\n",
      "  225 225 225 225 225 224 224 224 224]\n",
      " [225 225 225 225 225 225 222 209 202 221 214 212 221 223 217 217 218 227\n",
      "  226 225 225 225 225 224 224 224 224]\n",
      " [225 225 226 226 226 226 220 209 203 213 210 210 219 217 218 217 225 226\n",
      "  226 226 226 226 225 225 224 225 224]\n",
      " [226 225 226 226 226 226 216 201 199 188 199 201 204 214 214 219 226 227\n",
      "  226 227 226 226 226 225 225 225 224]\n",
      " [226 226 226 226 226 224 211 205 202 200 200 201 207 206 206 223 227 227\n",
      "  227 227 226 226 226 225 226 225 225]\n",
      " [226 227 227 227 227 220 212 209 208 206 204 209 212 210 203 225 227 227\n",
      "  224 221 222 226 226 226 225 225 225]\n",
      " [227 227 227 227 226 218 215 211 212 211 206 210 212 214 207 219 219 218\n",
      "  218 218 215 210 220 225 226 226 225]\n",
      " [227 228 227 227 225 216 212 209 214 214 210 211 213 212 219 220 220 223\n",
      "  221 220 220 217 217 213 227 226 226]\n",
      " [227 228 228 228 222 218 215 209 207 211 209 211 213 214 222 221 224 222\n",
      "  221 218 219 220 216 215 226 226 226]\n",
      " [228 228 228 228 222 220 216 211 209 213 210 214 217 216 223 221 222 228\n",
      "  226 227 227 218 213 213 229 226 226]\n",
      " [228 228 229 228 223 220 216 212 205 209 210 213 215 216 209 216 226 230\n",
      "  229 226 218 221 221 218 226 227 226]\n",
      " [229 228 229 225 224 219 217 213 206 209 211 210 212 213 211 213 231 229\n",
      "  226 218 223 224 223 227 227 227 226]\n",
      " [230 229 230 225 225 220 217 212 206 205 210 207 209 210 213 214 221 223\n",
      "  222 223 224 217 224 228 227 227 226]\n",
      " [230 230 230 225 227 222 217 212 205 204 206 207 205 208 212 214 211 221\n",
      "  225 224 220 219 228 228 228 227 227]\n",
      " [230 230 230 226 226 224 220 214 206 206 211 214 214 218 219 217 219 225\n",
      "  226 223 222 229 229 228 227 227 226]\n",
      " [230 230 230 227 228 225 222 217 211 213 216 217 222 224 225 224 224 226\n",
      "  223 222 229 230 229 228 228 227 227]\n",
      " [231 230 227 228 230 228 224 220 219 221 223 223 225 226 226 225 222 220\n",
      "  218 230 230 230 229 229 227 227 227]\n",
      " [230 230 226 228 231 230 228 226 227 226 228 227 226 224 224 221 220 224\n",
      "  230 231 231 230 229 228 228 228 227]]\n"
     ]
    },
    {
     "data": {
      "image/png": "[encoded data removed]",
      "text/plain": [
       "<Figure size 720x720 with 2 Axes>"
      ]
     },
     "metadata": {
      "needs_background": "light"
     },
     "output_type": "display_data"
    }
   ],
   "source": [
    "# Showing Sign Image and Letter\n",
    "\n",
    "df = pd.read_csv(r'.\\letters\\sign_mnist_test.csv')\n",
    "# print(df.iloc[0].to_string(index=False))\n",
    "\n",
    "fig = plt.figure(figsize=(10, 10))\n",
    "fig.add_subplot(1, 2, 1)\n",
    "\n",
    "img_index = 105\n",
    "arr = df.iloc[img_index, 1: ].values\n",
    "print(eng_alphabet[df.iloc[img_index, 0]])\n",
    "img_arr = pd.DataFrame(arr.reshape(-1, 28)).set_index(0)\n",
    "plt.imshow(img_arr, cmap='gray', vmin=0, vmax=255)\n",
    "\n",
    "plt.axis('off')\n",
    "plt.title(\"First\")\n",
    "\n",
    "fig.add_subplot(1, 2, 2)\n",
    "\n",
    "youimg = cv2.imread('gray.png')\n",
    "youimg = cv2.flip(youimg, 1)\n",
    "youimg = cv2.resize(youimg, (27, 28))\n",
    "youimg = cv2.cvtColor(youimg, cv2.COLOR_BGR2GRAY)\n",
    "plt.imshow(youimg, cmap='gray')\n",
    "\n",
    "plt.axis('off')\n",
    "plt.title(\"Second\")\n",
    "\n",
    "print(len(img_arr))\n",
    "print()\n",
    "print(youimg)\n"
   ]
  },
  {
   "cell_type": "code",
   "execution_count": 3,
   "metadata": {},
   "outputs": [
    {
     "data": {
      "text/plain": [
       "KNeighborsClassifier(algorithm='ball_tree', n_neighbors=9)"
      ]
     },
     "execution_count": 3,
     "metadata": {},
     "output_type": "execute_result"
    }
   ],
   "source": [
    "from sklearn.neighbors import KNeighborsClassifier\n",
    "\n",
    "KNN = KNeighborsClassifier(n_neighbors=9, algorithm='ball_tree')\n",
    "\n",
    "train = pd.read_csv(r'.\\letters\\sign_mnist_train.csv')\n",
    "test = pd.read_csv(r'.\\letters\\sign_mnist_test.csv')\n",
    "\n",
    "x_train = train.loc[:, train.columns != 'label'].values\n",
    "y_train = train['label'].values\n",
    "\n",
    "x_test = test.loc[:, train.columns != 'label'].values\n",
    "y_test = test['label'].values\n",
    "\n",
    "# print(x_train, y_train)\n",
    "# print(x_train.size)\n",
    "# print(x_test, y_test)\n",
    "\n",
    "KNN.fit(x_train, y_train)\n"
   ]
  },
  {
   "cell_type": "code",
   "execution_count": 9,
   "metadata": {},
   "outputs": [
    {
     "name": "stdout",
     "output_type": "stream",
     "text": [
      "AI:  R\n"
     ]
    },
    {
     "data": {
      "image/png": "[encoded data removed]",
      "text/plain": [
       "<Figure size 432x288 with 1 Axes>"
      ]
     },
     "metadata": {
      "needs_background": "light"
     },
     "output_type": "display_data"
    }
   ],
   "source": [
    "# Let us use the trained KNN to predict the type of flower if its sepal length = 5 and sepal_width = 3 We can use the .predict method to do so.\n",
    "itest = 105\n",
    "\n",
    "savedIMG = cv2.imread('gray.png')\n",
    "savedIMG = cv2.flip(savedIMG, 1)\n",
    "savedIMG = cv2.resize(savedIMG, (28, 28))\n",
    "savedIMG = cv2.cvtColor(savedIMG, cv2.COLOR_BGR2GRAY)\n",
    "\n",
    "plt.imshow(savedIMG, cmap='gray')\n",
    "# print(savedIMG.shape[0], savedIMG.shape[1])\n",
    "\n",
    "savedIMG = savedIMG.reshape(1, -1)\n",
    "# print(savedIMG.size)\n",
    "# savedIMG = savedIMG.transpose(2, 0, 1).reshape(3, -1)\n",
    "# print(savedIMG)\n",
    "\n",
    "# predicted = KNN.predict([test.iloc[itest, 1:]])\n",
    "predicted = KNN.predict(savedIMG)\n",
    "\n",
    "print(\"AI: \", eng_alphabet[predicted[0]])\n",
    "\n",
    "# arr = test.iloc[itest, 1: ].values\n",
    "# print(\"TRUE: \", eng_alphabet[test.iloc[itest, 0]])\n",
    "# img_arr = pd.DataFrame(arr.reshape(-1, 28)).set_index(0)\n",
    "# plt.imshow(img_arr, cmap='gray', vmin=0, vmax=255)\n",
    "\n",
    "# print(\"Accuracy: \", KNN.score(x_test, y_test))"
   ]
  },
  {
   "cell_type": "code",
   "execution_count": 93,
   "metadata": {},
   "outputs": [],
   "source": [
    "# Opening cv2 Webcam\n",
    "\n",
    "import pandas as pd\n",
    "import numpy as np\n",
    "import matplotlib.pyplot as plt\n",
    "import cv2\n",
    "from cvzone.HandTrackingModule import HandDetector\n",
    "\n",
    "cap = cv2.VideoCapture(1, cv2.CAP_DSHOW)\n",
    "detector = HandDetector(detectionCon=0.8, maxHands=1)\n",
    "\n",
    "try:\n",
    "    while True:\n",
    "        ret, frame = cap.read()\n",
    "        \n",
    "        hands = detector.findHands(frame, draw=False)\n",
    "\n",
    "        # hands, img = detector.findHands(frame)\n",
    "\n",
    "        # cv2.imshow('Webcam', frame)\n",
    "\n",
    "        if (hands and hands[0]):\n",
    "            x, y, w, h = hands[0]['bbox']\n",
    "            # cx, cy = hands[0]['center']\n",
    "            \n",
    "            x -= 30\n",
    "            y -= 30\n",
    "            w += 30\n",
    "            h += 30\n",
    "\n",
    "            if (w > h):\n",
    "                # if (y > w/2): y = int(y-w/2)\n",
    "                h = w\n",
    "            elif (h > w):\n",
    "                # if (x > h/2): x = int(x-h/2)\n",
    "                w = h\n",
    "\n",
    "            crop_img = frame[y:y+h, x:x+w]\n",
    "            # flipped = cv2.flip(crop_img, 1)\n",
    "            cv2.imshow(\"HAND\", crop_img)\n",
    "            cv2.setWindowProperty(\"HAND\", cv2.WND_PROP_TOPMOST, 1)\n",
    "\n",
    "            # gray = cv2.cvtColor(crop_img, cv2.COLOR_BGR2GRAY)\n",
    "\n",
    "            cv2.imwrite(\"gray.png\", crop_img)\n",
    "\n",
    "        # cv2.imshow('Webcam', frame)\n",
    "\n",
    "        # if cv2.waitKey(1) == ord('s'):\n",
    "        #     toPredict = cv2.imread(\"gray.png\")\n",
    "        #     toPredict = cv2.flip(toPredict, 1)\n",
    "        #     toPredict = cv2.resize(toPredict, (28, 28))\n",
    "        #     toPredict = cv2.cvtColor(toPredict, cv2.COLOR_BGR2GRAY)\n",
    "        #     toPredict = toPredict.reshape(1, -1)\n",
    "        #     toPredicted = KNN.predict(toPredict)\n",
    "\n",
    "        #     print(\"AI: \", eng_alphabet[toPredicted[0]])\n",
    "\n",
    "        if cv2.waitKey(1) == ord('q'):\n",
    "            break\n",
    "\n",
    "except Exception as e:\n",
    "    print(e)\n",
    "finally:\n",
    "    cap.release()\n",
    "    cv2.destroyAllWindows()\n"
   ]
  },
  {
   "cell_type": "code",
   "execution_count": null,
   "metadata": {},
   "outputs": [],
   "source": [
    "# Opening cv2 Webcam\n",
    "\n",
    "import pandas as pd\n",
    "import numpy as np\n",
    "import matplotlib.pyplot as plt\n",
    "import cv2\n",
    "from cvzone.HandTrackingModule import HandDetector\n",
    "\n",
    "cap = cv2.VideoCapture(1, cv2.CAP_DSHOW)\n",
    "detector = HandDetector(detectionCon=0.8, maxHands=2)\n",
    "\n",
    "try:\n",
    "    while True:\n",
    "        ret, frame = cap.read()\n",
    "        \n",
    "        hands = detector.findHands(frame, draw=True)\n",
    "\n",
    "        # hands, img = detector.findHands(frame)\n",
    "\n",
    "        # cv2.imshow('Webcam', frame)\n",
    "\n",
    "        if (hands and hands[0]):\n",
    "            x, y, w, h = hands[0][0]['bbox']\n",
    "            # cx, cy = hands[0]['center']\n",
    "\n",
    "            # crop_img = frame[y:y+h, x:x+w]\n",
    "            # flipped = cv2.flip(crop_img, 1)\n",
    "            # flipped_frame = cv2.flip(frame, 1)\n",
    "            cv2.imshow(\"MAIN\", frame)\n",
    "            cv2.setWindowProperty(\"MAIN\", cv2.WND_PROP_TOPMOST, 1)\n",
    "\n",
    "        if cv2.waitKey(1) == ord('q'):\n",
    "            break\n",
    "\n",
    "except Exception as e:\n",
    "    print(e)\n",
    "finally:\n",
    "    cap.release()\n",
    "    cv2.destroyAllWindows()\n",
    "\n",
    "\n",
    "# arr123 = test.iloc[105, 1: ].values\n",
    "# readImg = pd.DataFrame(arr123.reshape(-1, 28)).set_index(0)\n",
    "\n",
    "# backtorgb = cv2.cvtColor(readImg, cv2.COLOR_GRAY2RGB)\n",
    "# print(readImg)\n",
    "# readImg = cv2.imread(\"gray.png\")\n",
    "# print(readImg)\n",
    "# # readImg = cv2.resize(readImg, (28, 28))\n",
    "# # readImg = cv2.cvtColor(readImg, cv2.COLOR_BGR2GRAY)\n",
    "# # hands = detector.findHands(readImg, draw=True)\n",
    "# plt.imshow(readImg)\n",
    "# # cv2.imshow(\"main\", readImg)\n",
    "# # cv2.waitKey(0)\n",
    "# # cv2.destroyAllWindows()\n"
   ]
  },
  {
   "cell_type": "code",
   "execution_count": 8,
   "metadata": {},
   "outputs": [
    {
     "data": {
      "text/plain": [
       "True"
      ]
     },
     "execution_count": 8,
     "metadata": {},
     "output_type": "execute_result"
    }
   ],
   "source": [
    "rgb = cv2.imread(\"gray.png\")\n",
    "\n",
    "def gammaCorrection(src, gamma):\n",
    "    invGamma = 1 / gamma\n",
    " \n",
    "    table = [((i / 255) ** invGamma) * 255 for i in range(256)]\n",
    "    table = np.array(table, np.uint8)\n",
    " \n",
    "    return cv2.LUT(src, table)\n",
    " \n",
    "gammaImg = gammaCorrection(rgb, 2)\n",
    "\n",
    "toGray = cv2.cvtColor(gammaImg, cv2.COLOR_BGR2GRAY)\n",
    "\n",
    "cv2.imwrite(\"gray.png\", toGray)"
   ]
  },
  {
   "cell_type": "code",
   "execution_count": null,
   "metadata": {},
   "outputs": [
    {
     "data": {
      "image/png": "[encoded data removed]",
      "text/plain": [
       "<Figure size 432x288 with 1 Axes>"
      ]
     },
     "metadata": {
      "needs_background": "light"
     },
     "output_type": "display_data"
    },
    {
     "data": {
      "text/plain": [
       "(-0.5, 63.5, 63.5, -0.5)"
      ]
     },
     "execution_count": 25,
     "metadata": {},
     "output_type": "execute_result"
    },
    {
     "data": {
      "image/png": "[encoded data removed]",
      "text/plain": [
       "<Figure size 432x288 with 1 Axes>"
      ]
     },
     "metadata": {
      "needs_background": "light"
     },
     "output_type": "display_data"
    }
   ],
   "source": [
    "x_numbers = np.load(r'.\\numbers\\X.npy')\n",
    "y_numbers = np.load(r'.\\numbers\\Y.npy')\n",
    "\n",
    "# print(x_numbers[700]*255)\n",
    "# print(y_numbers[400])\n",
    "\n",
    "\t\n",
    "# image = cv2.imread('123.png')\n",
    "# print(image.shape)\n",
    "# image = image.ravel()\n",
    "# gray = cv2.cvtColor(image, cv2.COLOR_BGR2GRAY)\n",
    "\n",
    "\n",
    "# print(gray)\n",
    "\n",
    "# img_arr = pd.DataFrame(gray.reshape(64, 64)).set_index(0)\n",
    "# plt.imshow(img_arr)\n",
    "# plt.axis(\"off\")\n",
    "# plt.show()\n",
    "\n",
    "# print(image)\n",
    "# cv2.imshow('Sussy', image)\n",
    "\n",
    "# print(gray)\n",
    "# cv2.imshow(\"BRUH\", gray)\n",
    "\n",
    "# gray = cv2.cvtColor(image, cv2.COLOR_BGR2GRAY)\n",
    "plt.imshow(x_numbers[700]*255)\n",
    "plt.axis(\"off\")\n",
    "plt.show()\n",
    "plt.imshow(x_numbers[400], cmap='gray')\n",
    "plt.axis(\"off\")\n",
    "\n",
    "# plt.imsave('123.png', x_numbers[700]*255, cmap='gray')\n",
    "\n"
   ]
  },
  {
   "cell_type": "code",
   "execution_count": 5,
   "metadata": {},
   "outputs": [],
   "source": [
    "# Write the image to a file\n",
    "\n",
    "import csv\n",
    "import cv2\n",
    "import numpy as np\n",
    "import pandas as pd\n",
    "import matplotlib.pyplot as plt\n",
    "from cvzone.HandTrackingModule import HandDetector\n",
    "\n",
    "labels = ['A', 'B', 'C', 'D', 'E', 'F', 'G', 'H', 'I', 'J', 'K', 'L', 'M', 'N', 'O', 'P', 'Q', 'R', 'S', 'T', 'U', 'V', 'W', 'X', 'Y', 'Z', 'del', 'nothing', 'space']\n",
    "\n",
    "detector = HandDetector(detectionCon=0.8, maxHands=1)\n",
    "\n",
    "# image = cv2.imread('aslabc/asl_alphabet_train/asl_alphabet_train/A/A300.jpg')\n",
    "# hands = detector.findHands(image, draw=True)\n",
    "# if (hands and hands[0] and hands[0][0]):\n",
    "#     print(hands[0][0])\n",
    "# cv2.imshow(\"main\", image)\n",
    "\n",
    "# cv2.waitKey(0)\n",
    "# cv2.destroyAllWindows()\n",
    "\n",
    "# image = cv2.resize(image, (64, 64))\n",
    "# image = image.ravel()\n",
    "# print(image)\n",
    "# image = cv2.cvtColor(image, cv2.COLOR_BGR2GRAY)\n",
    "\n",
    "# imgplot = plt.imshow(image, cmap='gray')\n",
    "# plt.show()\n",
    "\n",
    "# image = image.reshape(1, -1)\n",
    "# print(image)\n",
    "\n",
    "# with open('traindots.csv', 'w', encoding='UTF8', newline='') as f:\n",
    "#     writer = csv.writer(f)\n",
    "\n",
    "#     header_arr = ['label']\n",
    "#     for i in range(24):\n",
    "#         header_arr.append(i)\n",
    "\n",
    "#     writer.writerow(header_arr)\n",
    "\n",
    "# with open('traindots.csv', 'a', encoding='UTF8', newline='') as f:\n",
    "#     writer = csv.writer(f)\n",
    "\n",
    "#     for i in range(len(labels)):\n",
    "#         for j in range(1, 3001):\n",
    "#             image = cv2.imread('aslabc/asl_alphabet_train/asl_alphabet_train/'+labels[i]+'/'+labels[i]+str(j)+'.jpg')\n",
    "#             # image = cv2.resize(image, (64, 64))\n",
    "#             # image = image.ravel()\n",
    "#             hands = detector.findHands(image, draw=True)\n",
    "#             if (hands and hands[0] and hands[0][0]):\n",
    "#                 insertData = hands[0][0]['lmList']\n",
    "#                 insertData.append(hands[0][0]['bbox'])\n",
    "#                 insertData.append(hands[0][0]['center'])\n",
    "#                 if (hands[0][0]['type'] == 'Right'): insertData.append(1)\n",
    "#                 elif (hands[0][0]['type'] == 'Left'): insertData.append(0)\n",
    "#                 insertData = np.insert(insertData, 0, i) # insert the Label (i)\n",
    "#                 arr = np.asarray(insertData, dtype=object)\n",
    "#                 writer.writerow(arr)\n",
    "\n",
    "    # write the header\n",
    "    # writer.writerow(header)\n",
    "\n",
    "    # write the data"
   ]
  },
  {
   "cell_type": "code",
   "execution_count": 6,
   "metadata": {},
   "outputs": [],
   "source": [
    "traindots_df = pd.read_csv('traindots.csv')\n",
    "testdots_df = pd.read_csv('testdots.csv')"
   ]
  },
  {
   "cell_type": "code",
   "execution_count": 8,
   "metadata": {},
   "outputs": [
    {
     "name": "stdout",
     "output_type": "stream",
     "text": [
      "24    3000\n",
      "5     3000\n",
      "6     3000\n",
      "22    3000\n",
      "9     2999\n",
      "18    2999\n",
      "0     2997\n",
      "8     2997\n",
      "1     2995\n",
      "17    2994\n",
      "3     2990\n",
      "20    2975\n",
      "25    2972\n",
      "11    2955\n",
      "14    2917\n",
      "21    2904\n",
      "7     2855\n",
      "23    2827\n",
      "10    2801\n",
      "2     2694\n",
      "4     2614\n",
      "19    2568\n",
      "15    2499\n",
      "16    2468\n",
      "28    2353\n",
      "13    2197\n",
      "12    1975\n",
      "26    1839\n",
      "Name: label, dtype: int64\n"
     ]
    }
   ],
   "source": [
    "print(traindots_df['label'].value_counts())"
   ]
  },
  {
   "cell_type": "code",
   "execution_count": 37,
   "metadata": {},
   "outputs": [],
   "source": [
    "train_df = pd.read_csv('train.csv')"
   ]
  },
  {
   "cell_type": "code",
   "execution_count": 51,
   "metadata": {},
   "outputs": [],
   "source": [
    "test_df = pd.read_csv('test.csv')"
   ]
  },
  {
   "cell_type": "code",
   "execution_count": 94,
   "metadata": {},
   "outputs": [
    {
     "name": "stdout",
     "output_type": "stream",
     "text": [
      "B\n"
     ]
    },
    {
     "data": {
      "image/png": "[encoded data removed]",
      "text/plain": [
       "<Figure size 432x288 with 1 Axes>"
      ]
     },
     "metadata": {
      "needs_background": "light"
     },
     "output_type": "display_data"
    },
    {
     "data": {
      "image/png": "[encoded data removed]",
      "text/plain": [
       "<Figure size 432x288 with 1 Axes>"
      ]
     },
     "metadata": {
      "needs_background": "light"
     },
     "output_type": "display_data"
    }
   ],
   "source": [
    "\n",
    "# train_df = pd.read_csv('train.csv')\n",
    "# print(train_df.head())\n",
    "\n",
    "img_index = 5000\n",
    "arr = train_df.iloc[img_index, 1: ].values\n",
    "print(labels[train_df.iloc[img_index, 0]])\n",
    "img_arr = pd.DataFrame(arr.reshape(-1, 64)).set_index(0)\n",
    "\n",
    "image2 = cv2.imread(\"gray.png\", cv2.IMREAD_GRAYSCALE)\n",
    "# image2 = cv2.flip(image2, 1)\n",
    "image2 = cv2.resize(image2, (64, 64))\n",
    "\n",
    "plt.imshow(img_arr, cmap='gray', vmin=0, vmax=255)\n",
    "plt.show()\n",
    "\n",
    "plt.imshow(image2, cmap='gray', vmin=0, vmax=255)\n",
    "plt.show()"
   ]
  },
  {
   "cell_type": "code",
   "execution_count": 11,
   "metadata": {},
   "outputs": [
    {
     "ename": "ValueError",
     "evalue": "malformed node or string: array([['[89, 117, 0]', '[114, 100, -7]', '[126, 75, -9]', ...,\n        '(63, 35, 66, 82)', '(96, 76)', 1],\n       ['[90, 118, 0]', '[112, 102, -6]', '[126, 76, -8]', ...,\n        '(64, 37, 65, 81)', '(96, 77)', 1],\n       ['[92, 118, 0]', '[114, 103, -6]', '[129, 77, -8]', ...,\n        '(65, 38, 66, 80)', '(98, 78)', 1],\n       ...,\n       ['[120, 155, 0]', '[126, 135, -8]', '[126, 115, -14]', ...,\n        '(38, 85, 88, 70)', '(82, 120)', 1],\n       ['[122, 153, 0]', '[129, 132, -6]', '[128, 113, -10]', ...,\n        '(40, 83, 89, 70)', '(84, 118)', 1],\n       ['[124, 151, 0]', '[131, 131, -9]', '[130, 112, -14]', ...,\n        '(42, 82, 89, 69)', '(86, 116)', 1]], dtype=object)",
     "output_type": "error",
     "traceback": [
      "\u001b[1;31m---------------------------------------------------------------------------\u001b[0m",
      "\u001b[1;31mValueError\u001b[0m                                Traceback (most recent call last)",
      "\u001b[1;32md:\\Programming\\Intel AI\\Project\\main.ipynb Cell 17'\u001b[0m in \u001b[0;36m<cell line: 7>\u001b[1;34m()\u001b[0m\n\u001b[0;32m      <a href='vscode-notebook-cell:/d%3A/Programming/Intel%20AI/Project/main.ipynb#ch0000014?line=1'>2</a>\u001b[0m \u001b[39mfrom\u001b[39;00m \u001b[39mast\u001b[39;00m \u001b[39mimport\u001b[39;00m literal_eval\n\u001b[0;32m      <a href='vscode-notebook-cell:/d%3A/Programming/Intel%20AI/Project/main.ipynb#ch0000014?line=3'>4</a>\u001b[0m KNN \u001b[39m=\u001b[39m KNeighborsClassifier(n_neighbors\u001b[39m=\u001b[39m\u001b[39m5\u001b[39m)\n\u001b[1;32m----> <a href='vscode-notebook-cell:/d%3A/Programming/Intel%20AI/Project/main.ipynb#ch0000014?line=6'>7</a>\u001b[0m x_train \u001b[39m=\u001b[39m literal_eval(traindots_df\u001b[39m.\u001b[39;49mloc[:, traindots_df\u001b[39m.\u001b[39;49mcolumns \u001b[39m!=\u001b[39;49m \u001b[39m'\u001b[39;49m\u001b[39mlabel\u001b[39;49m\u001b[39m'\u001b[39;49m]\u001b[39m.\u001b[39;49mvalues)\n\u001b[0;32m      <a href='vscode-notebook-cell:/d%3A/Programming/Intel%20AI/Project/main.ipynb#ch0000014?line=7'>8</a>\u001b[0m y_train \u001b[39m=\u001b[39m traindots_df[\u001b[39m'\u001b[39m\u001b[39mlabel\u001b[39m\u001b[39m'\u001b[39m]\u001b[39m.\u001b[39mvalues\n\u001b[0;32m     <a href='vscode-notebook-cell:/d%3A/Programming/Intel%20AI/Project/main.ipynb#ch0000014?line=9'>10</a>\u001b[0m x_test \u001b[39m=\u001b[39m literal_eval(testdots_df\u001b[39m.\u001b[39mloc[:, testdots_df\u001b[39m.\u001b[39mcolumns \u001b[39m!=\u001b[39m \u001b[39m'\u001b[39m\u001b[39mlabel\u001b[39m\u001b[39m'\u001b[39m]\u001b[39m.\u001b[39mvalues)\n",
      "File \u001b[1;32m~\\AppData\\Local\\Programs\\Python\\Python39\\lib\\ast.py:105\u001b[0m, in \u001b[0;36mliteral_eval\u001b[1;34m(node_or_string)\u001b[0m\n\u001b[0;32m    <a href='file:///c%3A/Users/Itai/AppData/Local/Programs/Python/Python39/lib/ast.py?line=102'>103</a>\u001b[0m                 \u001b[39mreturn\u001b[39;00m left \u001b[39m-\u001b[39m right\n\u001b[0;32m    <a href='file:///c%3A/Users/Itai/AppData/Local/Programs/Python/Python39/lib/ast.py?line=103'>104</a>\u001b[0m     \u001b[39mreturn\u001b[39;00m _convert_signed_num(node)\n\u001b[1;32m--> <a href='file:///c%3A/Users/Itai/AppData/Local/Programs/Python/Python39/lib/ast.py?line=104'>105</a>\u001b[0m \u001b[39mreturn\u001b[39;00m _convert(node_or_string)\n",
      "File \u001b[1;32m~\\AppData\\Local\\Programs\\Python\\Python39\\lib\\ast.py:104\u001b[0m, in \u001b[0;36mliteral_eval.<locals>._convert\u001b[1;34m(node)\u001b[0m\n\u001b[0;32m    <a href='file:///c%3A/Users/Itai/AppData/Local/Programs/Python/Python39/lib/ast.py?line=101'>102</a>\u001b[0m         \u001b[39melse\u001b[39;00m:\n\u001b[0;32m    <a href='file:///c%3A/Users/Itai/AppData/Local/Programs/Python/Python39/lib/ast.py?line=102'>103</a>\u001b[0m             \u001b[39mreturn\u001b[39;00m left \u001b[39m-\u001b[39m right\n\u001b[1;32m--> <a href='file:///c%3A/Users/Itai/AppData/Local/Programs/Python/Python39/lib/ast.py?line=103'>104</a>\u001b[0m \u001b[39mreturn\u001b[39;00m _convert_signed_num(node)\n",
      "File \u001b[1;32m~\\AppData\\Local\\Programs\\Python\\Python39\\lib\\ast.py:78\u001b[0m, in \u001b[0;36mliteral_eval.<locals>._convert_signed_num\u001b[1;34m(node)\u001b[0m\n\u001b[0;32m     <a href='file:///c%3A/Users/Itai/AppData/Local/Programs/Python/Python39/lib/ast.py?line=75'>76</a>\u001b[0m     \u001b[39melse\u001b[39;00m:\n\u001b[0;32m     <a href='file:///c%3A/Users/Itai/AppData/Local/Programs/Python/Python39/lib/ast.py?line=76'>77</a>\u001b[0m         \u001b[39mreturn\u001b[39;00m \u001b[39m-\u001b[39m operand\n\u001b[1;32m---> <a href='file:///c%3A/Users/Itai/AppData/Local/Programs/Python/Python39/lib/ast.py?line=77'>78</a>\u001b[0m \u001b[39mreturn\u001b[39;00m _convert_num(node)\n",
      "File \u001b[1;32m~\\AppData\\Local\\Programs\\Python\\Python39\\lib\\ast.py:69\u001b[0m, in \u001b[0;36mliteral_eval.<locals>._convert_num\u001b[1;34m(node)\u001b[0m\n\u001b[0;32m     <a href='file:///c%3A/Users/Itai/AppData/Local/Programs/Python/Python39/lib/ast.py?line=66'>67</a>\u001b[0m \u001b[39mdef\u001b[39;00m \u001b[39m_convert_num\u001b[39m(node):\n\u001b[0;32m     <a href='file:///c%3A/Users/Itai/AppData/Local/Programs/Python/Python39/lib/ast.py?line=67'>68</a>\u001b[0m     \u001b[39mif\u001b[39;00m \u001b[39mnot\u001b[39;00m \u001b[39misinstance\u001b[39m(node, Constant) \u001b[39mor\u001b[39;00m \u001b[39mtype\u001b[39m(node\u001b[39m.\u001b[39mvalue) \u001b[39mnot\u001b[39;00m \u001b[39min\u001b[39;00m (\u001b[39mint\u001b[39m, \u001b[39mfloat\u001b[39m, \u001b[39mcomplex\u001b[39m):\n\u001b[1;32m---> <a href='file:///c%3A/Users/Itai/AppData/Local/Programs/Python/Python39/lib/ast.py?line=68'>69</a>\u001b[0m         _raise_malformed_node(node)\n\u001b[0;32m     <a href='file:///c%3A/Users/Itai/AppData/Local/Programs/Python/Python39/lib/ast.py?line=69'>70</a>\u001b[0m     \u001b[39mreturn\u001b[39;00m node\u001b[39m.\u001b[39mvalue\n",
      "File \u001b[1;32m~\\AppData\\Local\\Programs\\Python\\Python39\\lib\\ast.py:66\u001b[0m, in \u001b[0;36mliteral_eval.<locals>._raise_malformed_node\u001b[1;34m(node)\u001b[0m\n\u001b[0;32m     <a href='file:///c%3A/Users/Itai/AppData/Local/Programs/Python/Python39/lib/ast.py?line=64'>65</a>\u001b[0m \u001b[39mdef\u001b[39;00m \u001b[39m_raise_malformed_node\u001b[39m(node):\n\u001b[1;32m---> <a href='file:///c%3A/Users/Itai/AppData/Local/Programs/Python/Python39/lib/ast.py?line=65'>66</a>\u001b[0m     \u001b[39mraise\u001b[39;00m \u001b[39mValueError\u001b[39;00m(\u001b[39mf\u001b[39m\u001b[39m'\u001b[39m\u001b[39mmalformed node or string: \u001b[39m\u001b[39m{\u001b[39;00mnode\u001b[39m!r}\u001b[39;00m\u001b[39m'\u001b[39m)\n",
      "\u001b[1;31mValueError\u001b[0m: malformed node or string: array([['[89, 117, 0]', '[114, 100, -7]', '[126, 75, -9]', ...,\n        '(63, 35, 66, 82)', '(96, 76)', 1],\n       ['[90, 118, 0]', '[112, 102, -6]', '[126, 76, -8]', ...,\n        '(64, 37, 65, 81)', '(96, 77)', 1],\n       ['[92, 118, 0]', '[114, 103, -6]', '[129, 77, -8]', ...,\n        '(65, 38, 66, 80)', '(98, 78)', 1],\n       ...,\n       ['[120, 155, 0]', '[126, 135, -8]', '[126, 115, -14]', ...,\n        '(38, 85, 88, 70)', '(82, 120)', 1],\n       ['[122, 153, 0]', '[129, 132, -6]', '[128, 113, -10]', ...,\n        '(40, 83, 89, 70)', '(84, 118)', 1],\n       ['[124, 151, 0]', '[131, 131, -9]', '[130, 112, -14]', ...,\n        '(42, 82, 89, 69)', '(86, 116)', 1]], dtype=object)"
     ]
    }
   ],
   "source": [
    "from sklearn.neighbors import KNeighborsClassifier\n",
    "from ast import literal_eval\n",
    "\n",
    "KNN = KNeighborsClassifier(n_neighbors=5)\n",
    "\n",
    "\n",
    "x_train = traindots_df.loc[:, traindots_df.columns != 'label'].values\n",
    "y_train = traindots_df['label'].values\n",
    "\n",
    "x_test = testdots_df.loc[:, testdots_df.columns != 'label'].values\n",
    "y_test = testdots_df['label'].values\n",
    "\n",
    "# print(x_train, y_train)\n",
    "# print(x_train.size)\n",
    "# print(x_test, y_test)\n",
    "\n",
    "KNN.fit(x_train, y_train)"
   ]
  },
  {
   "cell_type": "code",
   "execution_count": 79,
   "metadata": {},
   "outputs": [
    {
     "name": "stdout",
     "output_type": "stream",
     "text": [
      "Accuracy:  0.9285714285714286\n"
     ]
    }
   ],
   "source": [
    "print(\"Accuracy: \", KNN.score(x_test, y_test))"
   ]
  },
  {
   "cell_type": "code",
   "execution_count": 96,
   "metadata": {},
   "outputs": [
    {
     "name": "stdout",
     "output_type": "stream",
     "text": [
      "AI:  I\n"
     ]
    }
   ],
   "source": [
    "toPredict = cv2.imread(\"gray.png\", cv2.IMREAD_GRAYSCALE)\n",
    "# toPredict = cv2.imread(\"aslabc/asl_alphabet_test/asl_alphabet_test/B_test.jpg\", cv2.IMREAD_GRAYSCALE)\n",
    "# toPredict = cv2.flip(toPredict, 1)\n",
    "toPredict = cv2.resize(toPredict, (64, 64))\n",
    "toPredict = toPredict.reshape(1, -1)\n",
    "toPredicted = KNN.predict(toPredict)\n",
    "\n",
    "print(\"AI: \", labels[toPredicted[0]])"
   ]
  }
 ],
 "metadata": {
  "interpreter": {
   "hash": "15b78ae7d8bb541448fc574e994727730f3ee429e4f78406e0bebe36fe529ad6"
  },
  "kernelspec": {
   "display_name": "Python 3.9.7 64-bit",
   "language": "python",
   "name": "python3"
  },
  "language_info": {
   "codemirror_mode": {
    "name": "ipython",
    "version": 3
   },
   "file_extension": ".py",
   "mimetype": "text/x-python",
   "name": "python",
   "nbconvert_exporter": "python",
   "pygments_lexer": "ipython3",
   "version": "3.9.7"
  },
  "orig_nbformat": 4
 },
 "nbformat": 4,
 "nbformat_minor": 2
}
