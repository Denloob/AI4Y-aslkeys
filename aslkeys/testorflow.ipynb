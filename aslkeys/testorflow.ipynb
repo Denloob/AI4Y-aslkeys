{
 "cells": [
  {
   "cell_type": "code",
   "execution_count": 1,
   "metadata": {},
   "outputs": [],
   "source": [
    "import tensorflow as tf\n",
    "import numpy as np\n",
    "import pandas as pd\n",
    "import matplotlib.pyplot as plt\n",
    "import cv2\n"
   ]
  },
  {
   "cell_type": "code",
   "execution_count": 3,
   "metadata": {},
   "outputs": [],
   "source": [
    "# eng_alphabet = ['A', 'B', 'C', 'D', 'E', 'F', 'G', 'H', 'I', 'J', 'K', 'L', 'M', 'N', 'O', 'P', 'Q', 'R', 'S', 'T', 'U', 'V', 'W', 'X', 'Y', 'Z']\n",
    "eng_alphabet = ['A', 'B', 'C', 'D', 'E', 'F', 'G', 'H', 'I', 'J', 'K', 'L', 'M', 'N', 'O', 'P', 'Q', 'R', 'S', 'T', 'U', 'V', 'W', 'X', 'Y', 'Z', 'del', 'nothing', 'space']"
   ]
  },
  {
   "cell_type": "code",
   "execution_count": 4,
   "metadata": {},
   "outputs": [],
   "source": [
    "train = pd.read_csv(r'.\\train.csv')\n",
    "test = pd.read_csv(r'.\\test.csv')"
   ]
  },
  {
   "cell_type": "code",
   "execution_count": 38,
   "metadata": {},
   "outputs": [
    {
     "name": "stdout",
     "output_type": "stream",
     "text": [
      "A\n"
     ]
    },
    {
     "data": {
      "text/plain": [
       "<matplotlib.image.AxesImage at 0x203746ddc40>"
      ]
     },
     "execution_count": 38,
     "metadata": {},
     "output_type": "execute_result"
    },
    {
     "data": {
      "image/png": "[encoded data removed]",
      "text/plain": [
       "<Figure size 432x288 with 1 Axes>"
      ]
     },
     "metadata": {
      "needs_background": "light"
     },
     "output_type": "display_data"
    }
   ],
   "source": [
    "# train = pd.read_csv(r'.\\letters\\sign_mnist_train.csv')\n",
    "# test = pd.read_csv(r'.\\letters\\sign_mnist_test.csv')\n",
    "\n",
    "\n",
    "x_train = train.loc[:, train.columns != 'label'].values\n",
    "y_train = train['label'].values\n",
    "\n",
    "x_test = test.loc[:, train.columns != 'label'].values\n",
    "y_test = test['label'].values\n",
    "\n",
    "x_train = x_train / 255\n",
    "x_test = x_test / 255\n",
    "\n",
    "# savedIMG = cv2.resize(x_train[100], (28, 28))\n",
    "print(eng_alphabet[y_train[101]])\n",
    "img_arr = pd.DataFrame(x_train[101].reshape(-1, 64)).set_index(0)\n",
    "plt.imshow(img_arr, cmap='gray')\n",
    "# print(x_train[100])"
   ]
  },
  {
   "cell_type": "code",
   "execution_count": 42,
   "metadata": {},
   "outputs": [
    {
     "name": "stdout",
     "output_type": "stream",
     "text": [
      "B\n"
     ]
    },
    {
     "data": {
      "text/plain": [
       "<matplotlib.image.AxesImage at 0x202e2643880>"
      ]
     },
     "execution_count": 42,
     "metadata": {},
     "output_type": "execute_result"
    },
    {
     "data": {
      "image/png": "[encoded data removed]",
      "text/plain": [
       "<Figure size 432x288 with 1 Axes>"
      ]
     },
     "metadata": {
      "needs_background": "light"
     },
     "output_type": "display_data"
    }
   ],
   "source": [
    "print(eng_alphabet[y_train[3000]])\n",
    "img_arr = pd.DataFrame(x_train[3000].reshape(-1, 64)).set_index(0)\n",
    "plt.imshow(img_arr, cmap='gray')"
   ]
  },
  {
   "cell_type": "code",
   "execution_count": 64,
   "metadata": {},
   "outputs": [
    {
     "name": "stdout",
     "output_type": "stream",
     "text": [
      "Epoch 1/10\n",
      "2719/2719 [==============================] - 8s 2ms/step - loss: 3.3691 - accuracy: 0.0333\n",
      "Epoch 2/10\n",
      "2719/2719 [==============================] - 7s 3ms/step - loss: 3.3676 - accuracy: 0.0335\n",
      "Epoch 3/10\n",
      "2719/2719 [==============================] - 6s 2ms/step - loss: 3.3676 - accuracy: 0.0331\n",
      "Epoch 4/10\n",
      "2719/2719 [==============================] - 7s 3ms/step - loss: 3.3676 - accuracy: 0.0334\n",
      "Epoch 5/10\n",
      "2719/2719 [==============================] - 6s 2ms/step - loss: 3.3677 - accuracy: 0.0335\n",
      "Epoch 6/10\n",
      "2719/2719 [==============================] - 6s 2ms/step - loss: 3.3676 - accuracy: 0.0341\n",
      "Epoch 7/10\n",
      "2719/2719 [==============================] - 6s 2ms/step - loss: 3.3676 - accuracy: 0.0332\n",
      "Epoch 8/10\n",
      "2719/2719 [==============================] - 6s 2ms/step - loss: 3.3677 - accuracy: 0.0321\n",
      "Epoch 9/10\n",
      "2719/2719 [==============================] - 8s 3ms/step - loss: 3.3677 - accuracy: 0.0335\n",
      "Epoch 10/10\n",
      "2719/2719 [==============================] - 7s 2ms/step - loss: 3.3676 - accuracy: 0.0347\n"
     ]
    },
    {
     "data": {
      "text/plain": [
       "<keras.callbacks.History at 0x202e7ea0c10>"
      ]
     },
     "execution_count": 64,
     "metadata": {},
     "output_type": "execute_result"
    }
   ],
   "source": [
    "model = tf.keras.models.Sequential([\n",
    "    tf.keras.layers.Flatten(input_shape=(4096, )),\n",
    "    tf.keras.layers.Dense(128, activation='relu'),\n",
    "    tf.keras.layers.Dense(29)\n",
    "])\n",
    "\n",
    "model.compile(optimizer='adam', loss=tf.keras.losses.SparseCategoricalCrossentropy(from_logits=True), metrics=['accuracy'])\n",
    "model.fit(x_train, y_train, epochs=10)"
   ]
  },
  {
   "cell_type": "code",
   "execution_count": 70,
   "metadata": {},
   "outputs": [],
   "source": [
    "youimg = cv2.imread('gray.png')\n",
    "youimg = cv2.flip(youimg, 1)\n",
    "youimg = cv2.resize(youimg, (64, 64))\n",
    "youimg = cv2.cvtColor(youimg, cv2.COLOR_BGR2GRAY)\n",
    "youimg = youimg.reshape(1, -1)\n",
    "\n",
    "probabily_model = tf.keras.Sequential([model, tf.keras.layers.Softmax()]) \n",
    "predictions = probabily_model.predict(youimg)"
   ]
  },
  {
   "cell_type": "code",
   "execution_count": 72,
   "metadata": {},
   "outputs": [
    {
     "data": {
      "text/plain": [
       "Text(0.5, 0, 'Z')"
      ]
     },
     "execution_count": 72,
     "metadata": {},
     "output_type": "execute_result"
    },
    {
     "data": {
      "image/png": "[encoded data removed]",
      "text/plain": [
       "<Figure size 432x288 with 1 Axes>"
      ]
     },
     "metadata": {
      "needs_background": "light"
     },
     "output_type": "display_data"
    }
   ],
   "source": [
    "# plt.figure(figsize=(10, 10))\n",
    "# for i in range(12):\n",
    "# plt.subplot()\n",
    "img_arr = pd.DataFrame(youimg.reshape(-1, 64)).set_index(0)\n",
    "plt.imshow(img_arr, cmap='gray')\n",
    "index = np.argmax(predictions[0])\n",
    "plt.xlabel(eng_alphabet[index])\n",
    "# plt.ylabel(eng_alphabet[y_test[i]])\n",
    "# plt.xticks([])\n",
    "# plt.yticks([])\n",
    "\n",
    "# plt.show()"
   ]
  }
 ],
 "metadata": {
  "interpreter": {
   "hash": "15b78ae7d8bb541448fc574e994727730f3ee429e4f78406e0bebe36fe529ad6"
  },
  "kernelspec": {
   "display_name": "Python 3.9.7 64-bit",
   "language": "python",
   "name": "python3"
  },
  "language_info": {
   "codemirror_mode": {
    "name": "ipython",
    "version": 3
   },
   "file_extension": ".py",
   "mimetype": "text/x-python",
   "name": "python",
   "nbconvert_exporter": "python",
   "pygments_lexer": "ipython3",
   "version": "3.9.7"
  },
  "orig_nbformat": 4
 },
 "nbformat": 4,
 "nbformat_minor": 2
}
